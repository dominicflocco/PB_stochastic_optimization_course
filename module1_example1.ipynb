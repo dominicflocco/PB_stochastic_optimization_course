{
 "cells": [
  {
   "cell_type": "markdown",
   "metadata": {
    "id": "7YALn20go_oX"
   },
   "source": [
    "# Modeule 1, Example 1: Farmer's Problem\n",
    "**Petrobras Course on Stochastic Optimization**\\\n",
    "Instructors: Steve Gabriel \\& Dominic Flocco\\\n",
    "Date: October 2024\n",
    "## Step 0: Install Code Dependencies\n",
    "\n",
    "Before we get started, run the following cells to load the necessary Python packages for the notebook and some helper functions we'll use to display model solutions."
   ]
  },
  {
   "cell_type": "code",
   "execution_count": 25,
   "metadata": {
    "id": "hFoMHQXbjETI"
   },
   "outputs": [],
   "source": [
    "import pandas as pd\n",
    "import numpy as np\n",
    "import matplotlib.pyplot as plt\n",
    "from pyomo.environ import *\n",
    "from pyomo.mpec import *\n",
    "pd.set_option('display.float_format', '{:.2f}'.format)\n",
    "\n",
    "# set solver\n",
    "opt = SolverFactory('glpk')"
   ]
  },
  {
   "cell_type": "code",
   "execution_count": 26,
   "metadata": {
    "id": "EkBvtxnPjETJ"
   },
   "outputs": [],
   "source": [
    "# Helper function to pprint solution after det_model solve\n",
    "def print_det_solution(det_model):\n",
    "    print(f\"========== {det_model.name} Solution Report ===========\")\n",
    "    print(f\"\\n******** FARMERS PROFIT = ${-det_model.objective():.2f} \")\n",
    "    # Store model results in dictionary\n",
    "    result_dict = {'Surface (acres)': dict(),\n",
    "                   'Yield (tons)': dict(),\n",
    "                   'Sales (tons)': dict(),\n",
    "                   'Purchase (tons)': dict()}\n",
    "    for crop in det_model.crops:\n",
    "        result_dict['Surface (acres)'][crop] = det_model.acres[crop].value\n",
    "        result_dict['Yield (tons)'][crop] = det_model.yields[crop].value*det_model.acres[crop].value\n",
    "\n",
    "    result_dict['Sales (tons)']['sugar_beets'] = det_model.sold['sugar_beets_under_quota'].value \\\n",
    "                                                  + det_model.sold['sugar_beets_over_quota'].value\n",
    "    result_dict['Sales (tons)']['wheat'] = det_model.sold['wheat'].value\n",
    "    result_dict['Sales (tons)']['corn'] = det_model.sold['corn'].value\n",
    "\n",
    "    result_dict['Purchase (tons)']['wheat'] = det_model.purchased['corn'].value\n",
    "    result_dict['Purchase (tons)']['corn'] = det_model.purchased['corn'].value\n",
    "    result_dict['Purchase (tons)']['sugar_beets'] = 0\n",
    "\n",
    "    # Convert result dictionary to Pandas dataframe\n",
    "    result_df = pd.DataFrame().from_dict(result_dict,\n",
    "                                         orient='index',\n",
    "                                         columns=det_model.crops)\n",
    "    result_df.rename(columns={'wheat': 'Wheat', 'corn':'Corn', 'sugar_beets': 'Sugar Beets'},\n",
    "                     inplace=True)\n",
    "    return result_df\n",
    "\n",
    "# Helper function to pprint solution after stoc_model solve\n",
    "def print_stoc_solution(stoc_model):\n",
    "    print(f\"=========== {stoc_model.name} Solution Report =============\")\n",
    "    print(f\"\\n******** FARMERS PROFIT = ${-stoc_model.objective():.2f} \")\n",
    "    result_dict = {('NA','Surface (acres)'): dict()}\n",
    "\n",
    "    # Store first-stage decisions\n",
    "    for crop in stoc_model.crops:\n",
    "        result_dict[('NA','Surface (acres)')][crop] = stoc_model.acres[crop].value\n",
    "\n",
    "\n",
    "    for s in stoc_model.scenarios:\n",
    "        result_dict.update({(s,'Yield (tons)'): dict(),\n",
    "                            (s,'Sales (tons)'): dict(),\n",
    "                            (s,'Purchase (tons)'): dict()})\n",
    "        for crop in stoc_model.crops:\n",
    "            result_dict[(s,'Yield (tons)')][crop] = stoc_model.yields[crop,s].value*stoc_model.acres[crop].value\n",
    "\n",
    "        result_dict[(s, 'Sales (tons)')]['sugar_beets'] = stoc_model.sold['sugar_beets_under_quota',s].value \\\n",
    "                                                            + stoc_model.sold['sugar_beets_over_quota',s].value\n",
    "        result_dict[(s,'Sales (tons)')]['wheat'] = stoc_model.sold['wheat',s].value\n",
    "        result_dict[(s, 'Sales (tons)')]['corn'] = stoc_model.sold['corn',s].value\n",
    "\n",
    "        result_dict[(s,'Purchase (tons)')]['wheat'] = stoc_model.purchased['corn',s].value\n",
    "        result_dict[(s,'Purchase (tons)')]['corn'] = stoc_model.purchased['corn',s].value\n",
    "        result_dict[(s,'Purchase (tons)')]['sugar_beets'] = 0\n",
    "\n",
    "\n",
    "    # Convert result dictionary to Pandas dataframe\n",
    "    result_df = pd.DataFrame().from_dict(result_dict,\n",
    "                                         orient='index',\n",
    "                                         columns=stoc_model.crops)\n",
    "    result_df.index = pd.MultiIndex.from_tuples(result_dict.keys(), names=['Scenario', 'Variable'])\n",
    "    result_df.rename(columns={'wheat': 'Wheat', 'corn':'Corn', 'sugar_beets': 'Sugar Beets'},\n",
    "                     inplace=True)\n",
    "    return result_df\n",
    "\n"
   ]
  },
  {
   "cell_type": "markdown",
   "metadata": {
    "id": "BfOIIfC9jETK"
   },
   "source": [
    "\n",
    "\n",
    "## Problem Description\n",
    "Adapted from: Birge, J. R., & Louveaux, F. (2011). *Introduction to Stochastic Programming*. Springer Science & Business Media. Chapter 1\n",
    "\n",
    "### Problem Statement\n",
    "Consider a farmer who specializes in raising wheat, corn and sugar beets on his 500 acres of land. During the winter, he wants to decide how much land to devote to each crop. The farmer knows that at least 200 tons of wheat and 240 tons of corn are needed to feed his cattle. These amounts can be raised on the farm or bought from a wholesaler. Any production in excess of the feeding requirement would be sold. The purchase prices are 40% higher than the selling prices due to the wholesaler's margin and transportation. The other profitable crop the farmer has at his disposal is sugar beets, which he expects to sell at \\\\$36/ton. However, there is a quota on sugar beet production, which means any amount in excess of the quota can sold only at \\\\$10/ton. The farmer's quota for next year is 6000 tons.\n",
    "\n",
    "Based on past experience, the farmer knows that the mean yield on his land is roughly 2.5 tons, 3 tons, and 20 tons per acre for wheat, corn and sugar beets, respectively. The following table summarizes the data inputs for the problem\n",
    "\n",
    "|    | Wheat | Corn | Sugar Beets |\n",
    "| -- | ----- | ---- | ----------- |\n",
    "| Yield (ton/acre) | 2.5 | 3 | 20 |\n",
    "| Planting cost (\\\\$/acre) | 150 | 230 | 260 |\n",
    "| Selling price (\\\\$/ton) | 170 | 150| 36 under 6000 tons|\n",
    "| | | | 10 above 6000 tons|\n",
    "|Purchase price (\\\\$/ton) |238 | 210 |  |\n",
    "| Minimum requirement (tons)| 200 | 240 | |\n",
    "\n",
    "The farmer's goal is to maximize net profits while satisfying the feeding requirements for his cattle.\n",
    "\n",
    "### Problem Formulation (Deterministic)\n",
    "To formulate this problem as a linear program (LP), we'll use the following notation:\n",
    "\n",
    "- $x_1$: acres of land devoted to wheat,\n",
    "- $x_2$: acres of land devoted to corn,\n",
    "- $x_3$ acres of land devoted to sugar beets,\n",
    "- $w_1$ tons of wheat sold,\n",
    "- $y_1$: tons of wheat purchased,\n",
    "- $w_2$: tons of corn sold,\n",
    "- $y_2$: tons of corn purchased,\n",
    "- $w_3$: tons of sugar beets sold at the favorable price (under quota)\n",
    "- $w_4$: tons of sugar beets sold at the lower price (over quota)\n",
    "\n",
    "Using the data above, the LP formulation in the deterministic setting is:\n",
    "\n",
    "\n",
    "\\begin{align}\n",
    "  \\min \\quad & 150x_1 + 230x_2 + 260x_3 & \\text{Planting costs}\\\\\n",
    "              & +238y_1 + 210y_2 & \\text{Purchase costs}\\\\\n",
    "              & - (170w_1 + 150w_2 - 26w_3 - 10w_4) & \\text{Revenues}\\\\\n",
    "  \\text{s.t.}\\quad & x_1 + x_2 + x_3 \\leq 500 & \\text{Total land available} \\\\\n",
    "  & 2.5x_1 + y_1 - w_1 \\geq 200 & \\text{Wheat min. requirement}\\\\\n",
    "  & 3x_2 + y_2 - w_2 \\geq 240 & \\text{Corn min. requirement}\\\\\n",
    "  & w_3 + w_4 - 20x_3 \\leq 0 & \\text{Sugar beets}\\\\\n",
    "  & w_3 \\leq 600 & \\text{1st part of quota}\\\\\n",
    "  &x_1, x_2, x_3,w_1,y_1,w_2,y_2, w_3,w_4 \\geq 0 & \\text{Nonnegativity}\n",
    "  \\end{align}\n",
    "\n"
   ]
  },
  {
   "cell_type": "markdown",
   "metadata": {
    "id": "EyfGlTtljETK"
   },
   "source": [
    "## Deterministic Model Implementation\n",
    "We will implement the Farmer's problem LP using [`Pyomo`](https://pyomo.readthedocs.io/en/stable/). Run the cells below to formulate and solve the model."
   ]
  },
  {
   "cell_type": "markdown",
   "metadata": {
    "id": "oVYZwAxtjETK"
   },
   "source": [
    "### Deterministic Model Creation in Pyomo"
   ]
  },
  {
   "cell_type": "code",
   "execution_count": 3,
   "metadata": {
    "id": "3_rhlPvBjETK"
   },
   "outputs": [],
   "source": [
    "# load problem data\n",
    "planting_costs = {'wheat': 150,\n",
    "                  'corn': 230,\n",
    "                  'sugar_beets': 260}\n",
    "selling_prices = {'wheat': 170,\n",
    "                  'corn': 150,\n",
    "                  'sugar_beets_under_quota': 36,\n",
    "                  'sugar_beets_over_quota':10}\n",
    "purchase_prices = {'wheat': 238,\n",
    "                   'corn': 210}\n",
    "minimum_reqs = {'wheat': 200,\n",
    "                'corn': 240}\n",
    "mean_yields = {'wheat': 2.5,\n",
    "                'corn': 3,\n",
    "                'sugar_beets': 20}\n",
    "sugar_beets_quota = 6000\n",
    "total_land = 500"
   ]
  },
  {
   "cell_type": "code",
   "execution_count": 4,
   "metadata": {
    "id": "A7THUZIzjETL"
   },
   "outputs": [],
   "source": [
    "# initialize Pyomo model object\n",
    "det_model = ConcreteModel(name=\"Deterministic Farmer's Problem\")\n",
    "\n",
    "# set det_model parameters and sets\n",
    "det_model.crops = Set(initialize=['wheat', 'corn','sugar_beets'])\n",
    "\n",
    "# crop yields per acre (tons/acre)\n",
    "det_model.yields = Param(det_model.crops,\n",
    "                   mutable=True, # let's us change the value later\n",
    "                   initialize=mean_yields)\n",
    "\n",
    "# planting costs (USD/acre)\n",
    "det_model.planting_cost = Param(det_model.crops,\n",
    "                            initialize=planting_costs)\n",
    "# selling price in market (USD/ton)\n",
    "det_model.selling_price = Param(['wheat', 'corn',\n",
    "                             'sugar_beets_under_quota',\n",
    "                             'sugar_beets_over_quota'],\n",
    "                            initialize=selling_prices)\n",
    "\n",
    "# first part of sugar beets quota\n",
    "det_model.sugar_beets_quota = Param(initialize=sugar_beets_quota) # tons\n",
    "\n",
    "# purchasing price at wholesaler\n",
    "det_model.purchase_price = Param(['wheat', 'corn'],\n",
    "                             initialize=purchase_prices) # USD/ton\n",
    "\n",
    "# minimum requirement to feed cattle\n",
    "det_model.minimum_req = Param(['wheat','corn'],\n",
    "                          initialize=minimum_reqs) # acres\n",
    "# total available acres\n",
    "det_model.total_land = Param(initialize=total_land) # acres\n"
   ]
  },
  {
   "cell_type": "code",
   "execution_count": 5,
   "metadata": {
    "id": "nkF6tYa7jETL"
   },
   "outputs": [],
   "source": [
    "# declare deterministic model variables\n",
    "det_model.acres = Var(det_model.crops, # acres\n",
    "                  within=NonNegativeReals)\n",
    "\n",
    "det_model.sold = Var(['wheat', 'corn',\n",
    "                  'sugar_beets_under_quota',\n",
    "                  'sugar_beets_over_quota'], # tons\n",
    "                 within=NonNegativeReals)\n",
    "\n",
    "det_model.purchased = Var(['wheat', 'corn'], # tons\n",
    "                      within=NonNegativeReals)\n"
   ]
  },
  {
   "cell_type": "code",
   "execution_count": 6,
   "metadata": {
    "id": "uXTe23IMjETL"
   },
   "outputs": [],
   "source": [
    "# set det_model constraints\n",
    "\n",
    "# total land available constraint:\n",
    "#   acres of wheat + acres of corn + acres of sugar_beets <= 500\n",
    "det_model.total_land_constraint = Constraint(expr=sum(det_model.acres[crop] for crop in det_model.crops) <= det_model.total_land)\n",
    "\n",
    "# wheat minimum requirement constraint:\n",
    "#   yield + amount purchased - amount sold >= 200\n",
    "det_model.wheat_min_req_constraint = Constraint(expr=det_model.yields['wheat'] * det_model.acres['wheat'] + det_model.purchased['wheat']\\\n",
    "                                                    - det_model.sold['wheat'] >= det_model.minimum_req['wheat'])\n",
    "\n",
    "# corn minimum requirement constraint:\n",
    "#   yield + amount purchased - amount sold >= 240\n",
    "det_model.corn_min_req_constraint = Constraint(expr=det_model.yields['corn'] * det_model.acres['corn'] + det_model.purchased['corn']\\\n",
    "                                                    - det_model.sold['corn'] >= det_model.minimum_req['corn'])\n",
    "\n",
    "# sugar beets selling constraint:\n",
    "#   sugar_beets sold <= sugar_beet yield\n",
    "det_model.sugar_beets_sold_constraint = Constraint(expr=det_model.sold['sugar_beets_under_quota'] + det_model.sold['sugar_beets_over_quota']\\\n",
    "                                                        <= det_model.yields['sugar_beets']*det_model.acres['sugar_beets'])\n",
    "\n",
    "# sugar beets first quota constraint:\n",
    "#   sugar_beets sold for under quota price <= 6000\n",
    "det_model.sugar_beets_quota_constraint = Constraint(expr=det_model.sold['sugar_beets_under_quota'] <= det_model.sugar_beets_quota)\n"
   ]
  },
  {
   "cell_type": "code",
   "execution_count": 7,
   "metadata": {
    "id": "5zybDzTUjETM"
   },
   "outputs": [],
   "source": [
    "# set det_model objective\n",
    "planting_costs_obj = sum(det_model.planting_cost[crop]*det_model.acres[crop] for crop in det_model.crops)\n",
    "\n",
    "purchase_costs_obj = det_model.purchase_price['corn']*det_model.purchased['corn'] \\\n",
    "                    + det_model.purchase_price['wheat']*det_model.purchased['wheat']\n",
    "\n",
    "revenue_obj = det_model.selling_price['wheat']*det_model.sold['wheat'] \\\n",
    "            + det_model.selling_price['corn']*det_model.sold['corn'] \\\n",
    "            + det_model.selling_price['sugar_beets_under_quota']*det_model.sold['sugar_beets_under_quota'] \\\n",
    "            + det_model.selling_price['sugar_beets_over_quota']*det_model.sold['sugar_beets_over_quota']\n",
    "\n",
    "det_model.objective = Objective(expr= ( planting_costs_obj + purchase_costs_obj ) - revenue_obj,\n",
    "                            sense='minimize')"
   ]
  },
  {
   "cell_type": "markdown",
   "metadata": {
    "id": "nbDu-HomjETM"
   },
   "source": [
    "### Deterministic Model Solve\n",
    "**Exercise 1 (JN-1):** Now that we've formulated the deterministic farmer's problem in Pyomo, run the cell below to solve the model and display the profit maximizing solution.\n",
    "- Based on the problem data, does the solution make sense?\n",
    "  - Why doesn't the Farmer sell all the wheat?\n",
    "  - Why does the Farmer sell no corn?"
   ]
  },
  {
   "cell_type": "code",
   "execution_count": 27,
   "metadata": {
    "id": "8KAA5LHAjETM"
   },
   "outputs": [
    {
     "name": "stdout",
     "output_type": "stream",
     "text": [
      "========== \"Deterministic Farmer's Problem\" Solution Report ===========\n",
      "\n",
      "******** FARMERS PROFIT = $118600.00 \n"
     ]
    },
    {
     "data": {
      "text/html": [
       "<div>\n",
       "<style scoped>\n",
       "    .dataframe tbody tr th:only-of-type {\n",
       "        vertical-align: middle;\n",
       "    }\n",
       "\n",
       "    .dataframe tbody tr th {\n",
       "        vertical-align: top;\n",
       "    }\n",
       "\n",
       "    .dataframe thead th {\n",
       "        text-align: right;\n",
       "    }\n",
       "</style>\n",
       "<table border=\"1\" class=\"dataframe\">\n",
       "  <thead>\n",
       "    <tr style=\"text-align: right;\">\n",
       "      <th></th>\n",
       "      <th>Wheat</th>\n",
       "      <th>Corn</th>\n",
       "      <th>Sugar Beets</th>\n",
       "    </tr>\n",
       "  </thead>\n",
       "  <tbody>\n",
       "    <tr>\n",
       "      <th>Surface (acres)</th>\n",
       "      <td>120.00</td>\n",
       "      <td>80.00</td>\n",
       "      <td>300.00</td>\n",
       "    </tr>\n",
       "    <tr>\n",
       "      <th>Yield (tons)</th>\n",
       "      <td>300.00</td>\n",
       "      <td>240.00</td>\n",
       "      <td>6000.00</td>\n",
       "    </tr>\n",
       "    <tr>\n",
       "      <th>Sales (tons)</th>\n",
       "      <td>100.00</td>\n",
       "      <td>0.00</td>\n",
       "      <td>6000.00</td>\n",
       "    </tr>\n",
       "    <tr>\n",
       "      <th>Purchase (tons)</th>\n",
       "      <td>0.00</td>\n",
       "      <td>0.00</td>\n",
       "      <td>0.00</td>\n",
       "    </tr>\n",
       "  </tbody>\n",
       "</table>\n",
       "</div>"
      ],
      "text/plain": [
       "                 Wheat   Corn  Sugar Beets\n",
       "Surface (acres) 120.00  80.00       300.00\n",
       "Yield (tons)    300.00 240.00      6000.00\n",
       "Sales (tons)    100.00   0.00      6000.00\n",
       "Purchase (tons)   0.00   0.00         0.00"
      ]
     },
     "execution_count": 27,
     "metadata": {},
     "output_type": "execute_result"
    }
   ],
   "source": [
    "# solve deterministic model\n",
    "res = opt.solve(det_model,\n",
    "                tee=False)\n",
    "\n",
    "# check that solver status exited normally\n",
    "assert res.solver.status == SolverStatus.ok, \\\n",
    "        f\"Solver did not exit normally, termination condition {res.solver.status}.\"\n",
    "\n",
    "# output model report\n",
    "det_obj_value = -det_model.objective()\n",
    "\n",
    "print_det_solution(det_model)\n"
   ]
  },
  {
   "cell_type": "markdown",
   "metadata": {
    "id": "hJkVWa6RjETM"
   },
   "source": [
    "### Deterministic Farmer's Problem with Varying Yields\n",
    "\n",
    "After thinking about this solution, the farmer becomes worried. He has indeed experienced quite different yields for the same crop over different years mainly because of changing weather conditionds. Now, let's analyze that happens to the optimal solution as the Farmer's crop yields change. Specifically, we'll call the mean yield scenario considered in the above model the \"Medium-Yield\" scenario, and consider what happens when crop yields deviate $\\pm 20\\%$ from these mean values:\n",
    "\n",
    "| Scenario | Wheat | Corn | Sugar Beets |\n",
    "| -------- | ----- | ---- | ----------- |\n",
    "| Low-Yield (Scenario 1) | 2.0 | 2.4 | 16 |\n",
    "| Medium-Yield (Scenaio 2) | 2.5 | 3.0 | 20 |\n",
    "| High-Yield (Scenario 3) | 3.0 | 3.6 | 24 |  \n",
    "\n",
    "\n",
    "**Exercise 2 (JN-2):** Pick one of the above yield scenarios and change the crop yield data in the model formulation. Modify the cell below with one of these scenarios.\n"
   ]
  },
  {
   "cell_type": "code",
   "execution_count": 9,
   "metadata": {
    "id": "Y2XfeUgbqR91"
   },
   "outputs": [],
   "source": [
    "# enter new yield data\n",
    "new_yields = {'wheat': 2.5, # modify me!\n",
    "              'corn': 3.0, # modify me!\n",
    "              'sugar_beets': 20} # modify me!\n"
   ]
  },
  {
   "cell_type": "markdown",
   "metadata": {
    "id": "Rp1oHgfFqmGj"
   },
   "source": [
    "Now, run the cells below to solve the model with these new yields (make sure you've run the above cell so your changes take place!)\n",
    "- What do you observe about the optimal solution and farmer's profit with this new yield scenario?\n",
    "- How does this compare to the original solution obtained with the original yield data above? Is this what you expected?"
   ]
  },
  {
   "cell_type": "code",
   "execution_count": 10,
   "metadata": {
    "id": "ggNCQnSXjETN"
   },
   "outputs": [
    {
     "name": "stdout",
     "output_type": "stream",
     "text": [
      "========== \"Deterministic Farmer's Problem - Modified Yields\" Solution Report ===========\n",
      "\n",
      "******** FARMERS PROFIT = $118600.00 \n"
     ]
    },
    {
     "data": {
      "text/html": [
       "<div>\n",
       "<style scoped>\n",
       "    .dataframe tbody tr th:only-of-type {\n",
       "        vertical-align: middle;\n",
       "    }\n",
       "\n",
       "    .dataframe tbody tr th {\n",
       "        vertical-align: top;\n",
       "    }\n",
       "\n",
       "    .dataframe thead th {\n",
       "        text-align: right;\n",
       "    }\n",
       "</style>\n",
       "<table border=\"1\" class=\"dataframe\">\n",
       "  <thead>\n",
       "    <tr style=\"text-align: right;\">\n",
       "      <th></th>\n",
       "      <th>Wheat</th>\n",
       "      <th>Corn</th>\n",
       "      <th>Sugar Beets</th>\n",
       "    </tr>\n",
       "  </thead>\n",
       "  <tbody>\n",
       "    <tr>\n",
       "      <th>Surface (acres)</th>\n",
       "      <td>120.00</td>\n",
       "      <td>80.00</td>\n",
       "      <td>300.00</td>\n",
       "    </tr>\n",
       "    <tr>\n",
       "      <th>Yield (tons)</th>\n",
       "      <td>300.00</td>\n",
       "      <td>240.00</td>\n",
       "      <td>6000.00</td>\n",
       "    </tr>\n",
       "    <tr>\n",
       "      <th>Sales (tons)</th>\n",
       "      <td>100.00</td>\n",
       "      <td>0.00</td>\n",
       "      <td>6000.00</td>\n",
       "    </tr>\n",
       "    <tr>\n",
       "      <th>Purchase (tons)</th>\n",
       "      <td>0.00</td>\n",
       "      <td>0.00</td>\n",
       "      <td>0.00</td>\n",
       "    </tr>\n",
       "  </tbody>\n",
       "</table>\n",
       "</div>"
      ],
      "text/plain": [
       "                 Wheat   Corn  Sugar Beets\n",
       "Surface (acres) 120.00  80.00       300.00\n",
       "Yield (tons)    300.00 240.00      6000.00\n",
       "Sales (tons)    100.00   0.00      6000.00\n",
       "Purchase (tons)   0.00   0.00         0.00"
      ]
     },
     "execution_count": 10,
     "metadata": {},
     "output_type": "execute_result"
    }
   ],
   "source": [
    "# create instance of original deterministic model\n",
    "det_model_new_yield = det_model.create_instance()\n",
    "det_model_new_yield.name = f\"Deterministic Farmer's Problem - Modified Yields\"\n",
    "\n",
    "# update yield values in model\n",
    "det_model_new_yield.yields.store_values(new_yields)\n",
    "\n",
    "# solve model with changed data\n",
    "res = opt.solve(det_model_new_yield)\n",
    "\n",
    "# check that solver status exited normally\n",
    "assert res.solver.status == SolverStatus.ok, \\\n",
    "        f\"Solver did not exit normally, termination condition {res.solver.status}.\"\n",
    "\n",
    "# store and print model results\n",
    "print_det_solution(det_model_new_yield)\n"
   ]
  },
  {
   "cell_type": "markdown",
   "metadata": {
    "id": "Vl1ttxa_jETN"
   },
   "source": [
    "### Yields Sensitivity Analysis for Deterministic Farmer's Problem\n",
    "\n",
    "Now, we'll generalize these trends and conduct a sensitivity analysis on the crop yields. Specifically, we'll vary the percent deviation $\\delta$ from the mean crop yield for $\\delta \\in [-0.2, 0.2]$. Note that here we assume that there is some correlation among the yields of the different crops. Run the cell below to run the sensitivity analysis experiment."
   ]
  },
  {
   "cell_type": "code",
   "execution_count": 11,
   "metadata": {
    "id": "B20ORgwejETO"
   },
   "outputs": [],
   "source": [
    "# set variation values between -20% and 20%\n",
    "variations = np.linspace(start=-0.2, stop=0.2, num=20)\n",
    "\n",
    "# initialize result storing structures\n",
    "obj_values = np.zeros_like(variations)\n",
    "sales = {'corn': np.zeros_like(variations),\n",
    "         'wheat': np.zeros_like(variations)}\n",
    "purchases = {'corn': np.zeros_like(variations),\n",
    "         'wheat': np.zeros_like(variations)}\n",
    "\n",
    "# solve the model for each yield variation\n",
    "for i, delta in np.ndenumerate(variations):\n",
    "\n",
    "    # set new yield data\n",
    "    yields = {'wheat': (1+delta)*mean_yields['wheat'],\n",
    "              'corn': (1+delta)*mean_yields['corn'],\n",
    "              'sugar_beets': (1+delta)*mean_yields['sugar_beets']}\n",
    "\n",
    "    # create temporary instance of det_model\n",
    "    det_model_temp = det_model.create_instance()\n",
    "    det_model_temp.yields.store_values(yields)\n",
    "\n",
    "    # solve model\n",
    "    res = opt.solve(det_model_temp)\n",
    "\n",
    "    # check that solver status exited normally\n",
    "    assert res.solver.status == SolverStatus.ok, \\\n",
    "        f\"Solver did not exit normally, termination condition {res.solver.status}.\"\n",
    "\n",
    "    # store results\n",
    "    obj_values[i] = -det_model_temp.objective()\n",
    "    sales['corn'][i] = det_model_temp.sold['corn'].value\n",
    "    sales['wheat'][i] = det_model_temp.sold['wheat'].value\n",
    "    purchases['corn'][i] = det_model_temp.purchased['corn'].value\n",
    "    purchases['wheat'][i] = det_model_temp.purchased['wheat'].value\n"
   ]
  },
  {
   "cell_type": "markdown",
   "metadata": {
    "id": "PjRo9USzjETO"
   },
   "source": [
    "Next, run the cells below to visualize the affect of changing yields on the deterministic model solution. Are these trends expected? Based on the original model data, why does the farmer's decision change for different yield values?"
   ]
  },
  {
   "cell_type": "code",
   "execution_count": 12,
   "metadata": {
    "id": "K2mAxSQRjETO"
   },
   "outputs": [
    {
     "data": {
      "image/png": "[encoded data removed]",
      "text/plain": [
       "<Figure size 640x480 with 1 Axes>"
      ]
     },
     "metadata": {},
     "output_type": "display_data"
    }
   ],
   "source": [
    "plt.plot(variations,obj_values)\n",
    "plt.xlabel('Yield Deviation')\n",
    "plt.ylabel('Profit ($)')\n",
    "plt.grid()\n",
    "plt.title(\"Farmer's Profit for Varying Crop Yields\")\n",
    "plt.show()"
   ]
  },
  {
   "cell_type": "code",
   "execution_count": 13,
   "metadata": {
    "id": "E0WBJ_j_jETO"
   },
   "outputs": [
    {
     "data": {
      "image/png": "[encoded data removed]",
      "text/plain": [
       "<Figure size 1200x500 with 2 Axes>"
      ]
     },
     "metadata": {},
     "output_type": "display_data"
    }
   ],
   "source": [
    "plt.figure(figsize=(12,5))\n",
    "plt.subplot(1,2,1)\n",
    "plt.plot(variations,sales['corn'],label='Corn')\n",
    "plt.plot(variations,sales['wheat'],label='Wheat')\n",
    "plt.xlabel('Yield Deviation')\n",
    "plt.ylabel('Sales (tons)')\n",
    "plt.grid()\n",
    "plt.legend()\n",
    "plt.title(\"Corn and Wheat Sales for Varying Crop Yields\")\n",
    "\n",
    "plt.subplot(1,2,2)\n",
    "plt.plot(variations,purchases['corn'],label='Corn')\n",
    "plt.plot(variations,purchases['wheat'],label='Wheat')\n",
    "plt.xlabel('Yield Deviation')\n",
    "plt.ylabel('Purchases (tons)')\n",
    "plt.grid()\n",
    "plt.legend()\n",
    "plt.title(\"Corn and Wheat Purchases for Varying Crop Yields\")\n",
    "plt.show()\n"
   ]
  },
  {
   "cell_type": "markdown",
   "metadata": {
    "id": "b0QT7ds8BH-S"
   },
   "source": [
    "* Why do total sales increase with the yield? Why are purchases nonzero when yield is low?\n",
    "* Why does the farmer decide to sell wheat and buy corn? For reference, the original data to the problem is pasted below:\n",
    "\n",
    "|    | Wheat | Corn | Sugar Beets |\n",
    "| -- | ----- | ---- | ----------- |\n",
    "| Yield (ton/acre) | 2.5 | 3 | 20 |\n",
    "| Planting cost (\\\\$/acre) | 150 | 230 | 260 |\n",
    "| Selling price (\\\\$/ton) | 170 | 150| 36 under 6000 tons|\n",
    "| | | | 10 above 6000 tons|\n",
    "|Purchase price (\\\\$/ton) |238 | 210 |  |\n",
    "| Minimum requirement (tons)| 200 | 240 | |"
   ]
  },
  {
   "cell_type": "markdown",
   "metadata": {
    "id": "claBiblBjETO"
   },
   "source": [
    "## Stochastic Recourse Problem Formulation\n",
    "From the above sensitivity analysis, the Farmer concludes that his profit and optimal decisions are very sensitive to changing yields. This makes it difficult to make a perfect decision that would be best in all circumstances. To assess the benefits and losses of each decision in each scenario, he turns to a two-stage stochastic recourse model.\n",
    "\n",
    "In this model, the decisions on land asignment ($x_1, x_2, x_3$) have to be taken now, while sales and purchase decisions $(w_i,~i = 1,\\ldots, 4,~y_j,~j = 1,2$) depend on the yields. We refer to these decisions as \"wait-and-see\" decisions. For this stochastic model, we index these decisions by a scenario index $s = 1,2,3$ corresponding to the high-, medium- and low-yield scenarios, respectively. This creates a new set of variables:\n",
    "- $w_{is}$ for $i =1,2,3,4$ and $s = 1,2,3$: tons of crop $i$ sold to the wholesale market in scenario $s$\n",
    "- $y_{js}$ for $j = 1,2$ and $s = 1,2,3$: tons of crop $j$ purchased from the wholesale market in scenario $s$\n",
    "\n",
    "For now, we will assume each scenario occurs with an equal probability of 1/3, but will relax this assumption later. As before, the farmer wants to maximize (expected) long-run profit. The LP formulation for the two-stage stochastic farmer's problem is:\n",
    "\n",
    "$$\n",
    "\\begin{align*}\n",
    "\\min \\quad & 150x_1 + 230x_2 + 260x_3 & \\text{Planting costs}\\\\\n",
    "            & - \\sum_{s = 1}^3 \\frac{1}{3}(170w_{1s} - 238y_{1s} + 150w_{2s} - 210y_{2s} + 36 w_{3s} + 10w_{4s}) & \\text{Expected profit} \\\\\n",
    "\\text{s.t.}\\quad & x_1 + x_2 + x_3 \\leq 500 & \\text{Total land available} \\\\\n",
    "& 3x_1 + y_{11} - w_{11} \\geq 200 & \\text{Wheat min. requirement, $s = 1$}\\\\\n",
    "& 3.6x_2 + y_{21} - w_{21} \\geq 240 & \\text{Corn min. requirement, $s = 1$}\\\\\n",
    "& w_{31} + w_{41} - 24x_3 \\leq 0 & \\text{Sugar beets, $s = 1$}\\\\\n",
    "& w_{31} \\leq 6000 & \\text{1st part of quota, $s=1$}\\\\\n",
    "& 2.5x_1 + y_{12} - w_{12} \\geq 200 & \\text{Wheat min. requirement, $s = 2$}\\\\\n",
    "& 3x_2 + y_{22} - w_{22} \\geq 240 & \\text{Corn min. requirement, $s = 2$}\\\\\n",
    "& w_{32} + w_{42} - 20x_3 \\leq 0 & \\text{Sugar beets, $s = 2$}\\\\\n",
    "& w_{32} \\leq 6000 & \\text{1st part of quota, $s=2$}\\\\\n",
    "& 2x_1 + y_{13} - w_{13} \\geq 200 & \\text{Wheat min. requirement, $s = 3$}\\\\\n",
    "& 2.4x_2 + y_{23} - w_{23} \\geq 240 & \\text{Corn min. requirement, $s = 3$}\\\\\n",
    "& w_{33} + w_{43} - 16x_3 \\leq 0 & \\text{Sugar beets, $s = 3$}\\\\\n",
    "& w_{33} \\leq 600 & \\text{1st part of quota, $s=3$}\\\\\n",
    "&x, y, w \\geq 0 & \\text{Nonnegativity}\n",
    "\\end{align*}\n",
    "$$\n",
    "\n",
    "Run the cells below to implement and solve this model in Pyomo\n"
   ]
  },
  {
   "cell_type": "code",
   "execution_count": 14,
   "metadata": {
    "id": "FfhxQW_BjETP"
   },
   "outputs": [],
   "source": [
    "# load scenario data\n",
    "num_scenarios = 3\n",
    "scenario_probabilities = {1: 1/3, 2: 1/3, 3:1/3}\n",
    "\n",
    "\n",
    "yield_dict = {'low-yields':{'wheat': 2.0,\n",
    "                            'corn': 2.4,\n",
    "                            'sugar_beets': 16},\n",
    "              'medium-yields':{'wheat': 2.5,\n",
    "                              'corn': 3.0,\n",
    "                              'sugar_beets': 20},\n",
    "              'high-yields':{'wheat': 3.0,\n",
    "                            'corn': 3.6,\n",
    "                            'sugar_beets': 24}\n",
    "              }\n",
    "\n",
    "\n",
    "\n",
    "\n",
    "stoc_yields = {1: yield_dict['high-yields'],\n",
    "               2: yield_dict['medium-yields'],\n",
    "               3: yield_dict['low-yields']}\n",
    "\n",
    "# create model instance\n",
    "stoc_model = ConcreteModel(name='Stochastic Farmers Problem')\n",
    "\n",
    "# set model parameters and sets\n",
    "stoc_model.crops = Set(initialize=['wheat', 'corn','sugar_beets'])\n",
    "\n",
    "stoc_model.scenarios = RangeSet(1,num_scenarios)\n",
    "\n",
    "stoc_model.scenario_probs = Param(stoc_model.scenarios,\n",
    "                                  initialize=scenario_probabilities,\n",
    "                                  mutable=True)\n",
    "\n",
    "\n",
    "# crop yields per acre (tons/acre)\n",
    "stoc_model.yields = Param(stoc_model.crops, stoc_model.scenarios,\n",
    "                          mutable=True, # let's us change the value later\n",
    "                          initialize={(crop, s): stoc_yields[s][crop]\n",
    "                                        for crop in stoc_model.crops\n",
    "                                            for s in stoc_model.scenarios})\n",
    "\n",
    "# planting costs (USD/acre)\n",
    "stoc_model.planting_cost = Param(stoc_model.crops,\n",
    "                                initialize=planting_costs)\n",
    "# selling price in market (USD/ton)\n",
    "stoc_model.selling_price = Param(['wheat', 'corn',\n",
    "                             'sugar_beets_under_quota',\n",
    "                             'sugar_beets_over_quota'],\n",
    "                            initialize=selling_prices)\n",
    "\n",
    "stoc_model.sugar_beets_quota = Param(initialize=sugar_beets_quota) # tons\n",
    "\n",
    "# purchasing price at wholesaler\n",
    "stoc_model.purchase_price = Param(['wheat', 'corn'],\n",
    "                             initialize=purchase_prices) # USD/ton\n",
    "\n",
    "# minimum requirement to feed cattle\n",
    "stoc_model.minimum_req = Param(['wheat','corn'],\n",
    "                          initialize=minimum_reqs) # acres\n",
    "# total available acres\n",
    "stoc_model.total_land = Param(initialize=total_land) # acres\n"
   ]
  },
  {
   "cell_type": "code",
   "execution_count": 15,
   "metadata": {
    "id": "m3_hqKsdjETP"
   },
   "outputs": [],
   "source": [
    "# declare model variables\n",
    "\n",
    "# first stage decisions\n",
    "stoc_model.acres = Var(stoc_model.crops,# acres\n",
    "                        within=NonNegativeReals)\n",
    "\n",
    "# recourse decisions\n",
    "stoc_model.sold = Var(['wheat', 'corn',\n",
    "                       'sugar_beets_under_quota',\n",
    "                       'sugar_beets_over_quota'], stoc_model.scenarios,\n",
    "                        within=NonNegativeReals) # tons\n",
    "\n",
    "stoc_model.purchased = Var(['wheat', 'corn'], stoc_model.scenarios, # tons\n",
    "                      within=NonNegativeReals)"
   ]
  },
  {
   "cell_type": "code",
   "execution_count": 16,
   "metadata": {
    "id": "hQfD1mJsjETP"
   },
   "outputs": [],
   "source": [
    "# set model constraints\n",
    "\n",
    "# total land available constraint:\n",
    "#   acres of wheat + acres of corn + acres of sugar_beets <= 500\n",
    "stoc_model.total_land_constraint = Constraint(expr=sum(stoc_model.acres[crop] for crop in stoc_model.crops) <= stoc_model.total_land)\n",
    "\n",
    "# wheat minimum requirement constraint:\n",
    "#   yield + amount purchased - amount sold >= 200\n",
    "def wheat_min_req_constraint_(m, s):\n",
    "    return m.yields['wheat',s] * m.acres['wheat'] + m.purchased['wheat', s] - m.sold['wheat', s] >= m.minimum_req['wheat']\n",
    "\n",
    "stoc_model.wheat_min_req_constraint = Constraint(stoc_model.scenarios, rule=wheat_min_req_constraint_)\n",
    "\n",
    "# corn minimum requirement constraint:\n",
    "#   yield + amount purchased - amount sold >= 240\n",
    "def corn_min_req_constraint_(m, s):\n",
    "    return m.yields['corn',s] * m.acres['corn'] + m.purchased['corn', s] - m.sold['corn', s] >= m.minimum_req['corn']\n",
    "stoc_model.corn_min_req_constraint = Constraint(stoc_model.scenarios, rule=corn_min_req_constraint_)\n",
    "\n",
    "# sugar beets selling constraint:\n",
    "#   sugar_beets sold <= sugar_beet yield\n",
    "def sugar_beets_sold_constraint_(m, s):\n",
    "    return m.sold['sugar_beets_under_quota',s] + m.sold['sugar_beets_over_quota',s] <= m.yields['sugar_beets',s]*m.acres['sugar_beets']\n",
    "stoc_model.sugar_beets_sold_constraint = Constraint(stoc_model.scenarios,rule=sugar_beets_sold_constraint_)\n",
    "\n",
    "# sugar beets first quota constraint:\n",
    "#   sugar_beets sold for under quota price <= 6000\n",
    "def sugar_beets_quota_constraint_(m, s):\n",
    "    return m.sold['sugar_beets_under_quota',s] <= m.sugar_beets_quota\n",
    "stoc_model.sugar_beets_quota_constraint = Constraint(stoc_model.scenarios, rule=sugar_beets_quota_constraint_)\n"
   ]
  },
  {
   "cell_type": "code",
   "execution_count": 17,
   "metadata": {
    "id": "NFdZJjMojETP"
   },
   "outputs": [],
   "source": [
    "# set model objective\n",
    "planting_costs = sum(stoc_model.planting_cost[crop]*stoc_model.acres[crop] for crop in stoc_model.crops)\n",
    "\n",
    "\n",
    "def stoc_objective(m):\n",
    "\n",
    "    obj = 0\n",
    "\n",
    "    planting_costs = sum(stoc_model.planting_cost[crop]*stoc_model.acres[crop] for crop in stoc_model.crops)\n",
    "\n",
    "    obj += planting_costs\n",
    "\n",
    "    # expected profit\n",
    "    for s in stoc_model.scenarios:\n",
    "        purchase_costs = m.purchase_price['corn']*m.purchased['corn', s] \\\n",
    "                            + m.purchase_price['wheat']*m.purchased['wheat', s]\n",
    "\n",
    "        revenue = m.selling_price['wheat']*m.sold['wheat', s] \\\n",
    "                    + m.selling_price['corn']*m.sold['corn', s] \\\n",
    "                    + m.selling_price['sugar_beets_under_quota']*m.sold['sugar_beets_under_quota', s] \\\n",
    "                    + m.selling_price['sugar_beets_over_quota']*m.sold['sugar_beets_over_quota', s]\n",
    "\n",
    "        obj += m.scenario_probs[s]*(purchase_costs - revenue)\n",
    "\n",
    "    return obj\n",
    "\n",
    "stoc_model.objective = Objective(rule=stoc_objective, sense='minimize')"
   ]
  },
  {
   "cell_type": "markdown",
   "metadata": {
    "id": "9_FpAC6HjETP"
   },
   "source": [
    "Run the cell below to solve the stochastic farmers problem.\n",
    "- How does the farmer's profit compare to the one obtained in the deterministic cases?"
   ]
  },
  {
   "cell_type": "code",
   "execution_count": 18,
   "metadata": {
    "id": "SOWcqpAkjETP"
   },
   "outputs": [
    {
     "name": "stdout",
     "output_type": "stream",
     "text": [
      "=========== Stochastic Farmers Problem Solution Report =============\n",
      "\n",
      "******** FARMERS PROFIT = $108390.00 \n"
     ]
    },
    {
     "data": {
      "text/html": [
       "<div>\n",
       "<style scoped>\n",
       "    .dataframe tbody tr th:only-of-type {\n",
       "        vertical-align: middle;\n",
       "    }\n",
       "\n",
       "    .dataframe tbody tr th {\n",
       "        vertical-align: top;\n",
       "    }\n",
       "\n",
       "    .dataframe thead th {\n",
       "        text-align: right;\n",
       "    }\n",
       "</style>\n",
       "<table border=\"1\" class=\"dataframe\">\n",
       "  <thead>\n",
       "    <tr style=\"text-align: right;\">\n",
       "      <th></th>\n",
       "      <th></th>\n",
       "      <th>Wheat</th>\n",
       "      <th>Corn</th>\n",
       "      <th>Sugar Beets</th>\n",
       "    </tr>\n",
       "    <tr>\n",
       "      <th>Scenario</th>\n",
       "      <th>Variable</th>\n",
       "      <th></th>\n",
       "      <th></th>\n",
       "      <th></th>\n",
       "    </tr>\n",
       "  </thead>\n",
       "  <tbody>\n",
       "    <tr>\n",
       "      <th>NA</th>\n",
       "      <th>Surface (acres)</th>\n",
       "      <td>170.00</td>\n",
       "      <td>80.00</td>\n",
       "      <td>250.00</td>\n",
       "    </tr>\n",
       "    <tr>\n",
       "      <th rowspan=\"3\" valign=\"top\">1</th>\n",
       "      <th>Yield (tons)</th>\n",
       "      <td>510.00</td>\n",
       "      <td>288.00</td>\n",
       "      <td>6000.00</td>\n",
       "    </tr>\n",
       "    <tr>\n",
       "      <th>Sales (tons)</th>\n",
       "      <td>310.00</td>\n",
       "      <td>48.00</td>\n",
       "      <td>6000.00</td>\n",
       "    </tr>\n",
       "    <tr>\n",
       "      <th>Purchase (tons)</th>\n",
       "      <td>0.00</td>\n",
       "      <td>0.00</td>\n",
       "      <td>0.00</td>\n",
       "    </tr>\n",
       "    <tr>\n",
       "      <th rowspan=\"3\" valign=\"top\">2</th>\n",
       "      <th>Yield (tons)</th>\n",
       "      <td>425.00</td>\n",
       "      <td>240.00</td>\n",
       "      <td>5000.00</td>\n",
       "    </tr>\n",
       "    <tr>\n",
       "      <th>Sales (tons)</th>\n",
       "      <td>225.00</td>\n",
       "      <td>0.00</td>\n",
       "      <td>5000.00</td>\n",
       "    </tr>\n",
       "    <tr>\n",
       "      <th>Purchase (tons)</th>\n",
       "      <td>0.00</td>\n",
       "      <td>0.00</td>\n",
       "      <td>0.00</td>\n",
       "    </tr>\n",
       "    <tr>\n",
       "      <th rowspan=\"3\" valign=\"top\">3</th>\n",
       "      <th>Yield (tons)</th>\n",
       "      <td>340.00</td>\n",
       "      <td>192.00</td>\n",
       "      <td>4000.00</td>\n",
       "    </tr>\n",
       "    <tr>\n",
       "      <th>Sales (tons)</th>\n",
       "      <td>140.00</td>\n",
       "      <td>0.00</td>\n",
       "      <td>4000.00</td>\n",
       "    </tr>\n",
       "    <tr>\n",
       "      <th>Purchase (tons)</th>\n",
       "      <td>48.00</td>\n",
       "      <td>48.00</td>\n",
       "      <td>0.00</td>\n",
       "    </tr>\n",
       "  </tbody>\n",
       "</table>\n",
       "</div>"
      ],
      "text/plain": [
       "                          Wheat   Corn  Sugar Beets\n",
       "Scenario Variable                                  \n",
       "NA       Surface (acres) 170.00  80.00       250.00\n",
       "1        Yield (tons)    510.00 288.00      6000.00\n",
       "         Sales (tons)    310.00  48.00      6000.00\n",
       "         Purchase (tons)   0.00   0.00         0.00\n",
       "2        Yield (tons)    425.00 240.00      5000.00\n",
       "         Sales (tons)    225.00   0.00      5000.00\n",
       "         Purchase (tons)   0.00   0.00         0.00\n",
       "3        Yield (tons)    340.00 192.00      4000.00\n",
       "         Sales (tons)    140.00   0.00      4000.00\n",
       "         Purchase (tons)  48.00  48.00         0.00"
      ]
     },
     "execution_count": 18,
     "metadata": {},
     "output_type": "execute_result"
    }
   ],
   "source": [
    "# solve model\n",
    "res = opt.solve(stoc_model,\n",
    "                tee=False)\n",
    "\n",
    "# check that solver status exited normally\n",
    "assert res.solver.status == SolverStatus.ok, \\\n",
    "        f\"Solver did not exit normally, termination condition {res.solver.status}.\"\n",
    "\n",
    "# store recourse problem (RP) objective value\n",
    "rp_obj_value = -stoc_model.objective()\n",
    "\n",
    "print_stoc_solution(stoc_model)"
   ]
  },
  {
   "cell_type": "markdown",
   "metadata": {
    "id": "0iZk6_iajETP"
   },
   "source": [
    "### Analyzing the Stochastic Solution\n",
    "To analyze the solution to the two-stage recourse problem, we use two important notions in stochastic optimization: the value of the stochastic solution and expected value of perfect information.\n"
   ]
  },
  {
   "cell_type": "markdown",
   "metadata": {
    "id": "EQVov7FSjETP"
   },
   "source": [
    "#### Expected value of perfect information\n",
    "The *expected value of perfect information (EVPI)* measures the maximum amount a decision maker would be ready to pay in return for complete (and accurate) information about the future. In the case of the Farmer's problem, the farmer would benefit from perfect information about future weather conditions, so that he could allocate his land optimally. To compute the EVPI, we first compute the expected value of the optimal solution, commonly referred to as the *wait-and-see* solution (WS). The EVPI is then the difference between this wait-and-see solution and the head-and-now solution (i.e., the original solution to the recourse problem): $$\\text{EVPI} = \\text{RP}-\\text{WS}$$\n",
    "Run the following cell to calculate the EVPI for the stochastic Farmer's problem.\n"
   ]
  },
  {
   "cell_type": "code",
   "execution_count": 19,
   "metadata": {
    "id": "DJLRVBlqjETP"
   },
   "outputs": [
    {
     "name": "stdout",
     "output_type": "stream",
     "text": [
      "Here-and-Now Solution (RP) = $108390.00\n",
      "Wait-and-See Solution (WS) = $115405.56\n",
      "Expected Value of Perfect Information: $115405.56 - $108390.00 = $7015.56\n"
     ]
    }
   ],
   "source": [
    "def compute_evpi(scenario_probabilities, rp_obj_value, verbose=False):\n",
    "\n",
    "    det_obj_values = dict()\n",
    "    # compute deterministic solution with each yield scenario\n",
    "    for yield_scenario, yield_data in yield_dict.items():\n",
    "      # create instance of original deterministic model\n",
    "      det_model_mod_yield = det_model.create_instance()\n",
    "\n",
    "\n",
    "      # update yield values in model\n",
    "      det_model_mod_yield.yields.store_values(yield_data)\n",
    "\n",
    "      # solve model with changed data\n",
    "      res = opt.solve(det_model_mod_yield)\n",
    "\n",
    "      # check that solver status exited normally\n",
    "      assert res.solver.status == SolverStatus.ok, \\\n",
    "              f\"Solver did not exit normally, termination condition {res.solver.status}.\"\n",
    "\n",
    "      det_obj_values[yield_scenario] = -det_model_mod_yield.objective()\n",
    "\n",
    "\n",
    "    # compute wait-and-see (WS) solution by taking expected value\n",
    "    ws_obj_value = (scenario_probabilities[1]*det_obj_values['high-yields']\\\n",
    "                        + scenario_probabilities[2]*det_obj_values['medium-yields']\\\n",
    "                        + scenario_probabilities[3]*det_obj_values['low-yields'])\n",
    "\n",
    "    # compute expected value of perfect information (EVPI)\n",
    "    evpi = ws_obj_value - rp_obj_value\n",
    "    if verbose:\n",
    "        print(f\"Here-and-Now Solution (RP) = ${rp_obj_value:.2f}\")\n",
    "        print(f\"Wait-and-See Solution (WS) = ${ws_obj_value:.2f}\")\n",
    "        print(f\"Expected Value of Perfect Information: ${ws_obj_value:.2f} - ${rp_obj_value:.2f} = ${evpi:.2f}\")\n",
    "\n",
    "    return evpi\n",
    "evpi = compute_evpi(scenario_probabilities,rp_obj_value,verbose=True)"
   ]
  },
  {
   "cell_type": "markdown",
   "metadata": {
    "id": "Ia1wjhc5jETP"
   },
   "source": [
    "#### Value of the Stochastic Solution\n",
    "A natural, yet naive, approach to stochastic modeling is to solve the problem with random variables replaced by their expected values, which is referred to as the expected value (EV) problem. The *value of the stochastic solution (VSS)* measures the difference between the expected result of using the EV solution (EVV) and the here-and-now solution to the recourse problem (RP):\n",
    "$$ \\text{VSS} = \\text{EEV} - \\text{RP}$$\n",
    "\n",
    "\n",
    "Run the following cell to calculate the VSS for the stochastic Farmer's problem.\n"
   ]
  },
  {
   "cell_type": "code",
   "execution_count": 20,
   "metadata": {
    "id": "jxYe1CdYjETQ"
   },
   "outputs": [
    {
     "name": "stdout",
     "output_type": "stream",
     "text": [
      "Here-and-Now Solution (RP) = $108390.00\n",
      "Expected Result of EV Solution (EEV) = $107240.00\n",
      "Value of the Stochastic Solution: $108390.00 - $107240.00 = $1150.00 \n"
     ]
    }
   ],
   "source": [
    "def compute_vss(scenario_probabilities, rp_obj_value, verbose=False):\n",
    "\n",
    "    # Create instance of recourse problem\n",
    "    recourse_problem = stoc_model.create_instance()\n",
    "\n",
    "    # Update scenario probabilities\n",
    "    recourse_problem.scenario_probs.store_values(scenario_probabilities)\n",
    "\n",
    "    # Computed expected (mean) yields based on scenario probabilities\n",
    "    avg_yields = {crop:sum(scenario_probabilities[s]*stoc_yields[s][crop] for s in recourse_problem.scenarios)\n",
    "                        for crop in recourse_problem.crops}\n",
    "\n",
    "    # Create expected value problem (EVP) by creating a copy of\n",
    "    #   deterministic model\n",
    "    exp_value_problem = det_model.create_instance()\n",
    "\n",
    "    # Set yields in expected value problem to mean\n",
    "    exp_value_problem.yields.store_values(avg_yields)\n",
    "\n",
    "    # Solve expected value problem\n",
    "    res = opt.solve(det_model)\n",
    "\n",
    "    # check that solver status exited normally\n",
    "    assert res.solver.status == SolverStatus.ok, \\\n",
    "            f\"Solver did not exit normally, termination condition {res.solver.status}.\"\n",
    "\n",
    "    # Fix first stage decisions in recourse problem based on solution from EVP\n",
    "    recourse_problem.acres['wheat'].fix(exp_value_problem.acres['wheat'].value)\n",
    "    recourse_problem.acres['corn'].fix(exp_value_problem.acres['corn'].value)\n",
    "    recourse_problem.acres['sugar_beets'].fix(exp_value_problem.acres['sugar_beets'].value)\n",
    "\n",
    "    # Solve recourse problem with first stage decisions fixed\n",
    "    res = opt.solve(recourse_problem)\n",
    "    # check that solver status exited normally\n",
    "    assert res.solver.status == SolverStatus.ok, \\\n",
    "            f\"Solver did not exit normally, termination condition {res.solver.status}.\"\n",
    "\n",
    "    # Store expected result of using EVP solution (EEVP)\n",
    "    eevp_obj_value = -recourse_problem.objective()\n",
    "\n",
    "    # Compute value of the stochastic solution (VSS)\n",
    "    vss = (rp_obj_value - eevp_obj_value)\n",
    "\n",
    "    if verbose:\n",
    "        print(f\"Here-and-Now Solution (RP) = ${rp_obj_value:.2f}\")\n",
    "        print(f\"Expected Result of EV Solution (EEV) = ${eevp_obj_value:.2f}\")\n",
    "        print(f\"Value of the Stochastic Solution: ${rp_obj_value:.2f} - ${eevp_obj_value:.2f} = ${vss:.2f} \")\n",
    "\n",
    "    return vss\n",
    "vss = compute_vss(scenario_probabilities, rp_obj_value, verbose=True)\n"
   ]
  },
  {
   "cell_type": "markdown",
   "metadata": {
    "id": "K0Vv9ZzTjETQ"
   },
   "source": [
    "### Varying Scenario Probabilities (VSS and EVPI)\n",
    "\n",
    "**Exercise 3 (JN-3):** Now, change the scenario probabilities and see what happens to the VSS and EVPI of our solution. Run the following cell to adjust the probabilities from $(1/3, 1/3, 1/3)$ to more extreme values (e.g., $(1/4, 1/4, 1/2)$)."
   ]
  },
  {
   "cell_type": "code",
   "execution_count": 21,
   "metadata": {
    "id": "1FXE9uAfr5RR"
   },
   "outputs": [],
   "source": [
    "# set scenario probabilities\n",
    "scenario_probabilities = {1: 1/3, # modifiy me!\n",
    "                          2: 1/3, # modifiy me!\n",
    "                          3: 1/3} # modifiy me!\n",
    "\n",
    "# check that probabilities sum to 1\n",
    "assert sum(scenario_probabilities[s] for s in stoc_model.scenarios) == 1,\\\n",
    "        \"Scenario probabilities do not sum to one. Try again!\""
   ]
  },
  {
   "cell_type": "markdown",
   "metadata": {
    "id": "9J9hCi30r_eQ"
   },
   "source": [
    "Now, run the cell below to solve the stochastic version of the Farmer's problem with these new probabilities (make sure you've run the above cell so your changes take place!)\n",
    "- What happens to the VSS and EVPI? Do they change? If so, why do you think?"
   ]
  },
  {
   "cell_type": "code",
   "execution_count": 22,
   "metadata": {
    "id": "--7STgksjETQ"
   },
   "outputs": [
    {
     "name": "stdout",
     "output_type": "stream",
     "text": [
      "Scenario Probabilities: {1: 0.3333333333333333, 2: 0.3333333333333333, 3: 0.3333333333333333}\n",
      "Value of the Stochastic Solution (VSS) = $1150.00\n",
      "Expected Value of Perfect Information (EVPI) = $7015.56\n"
     ]
    }
   ],
   "source": [
    "# create new instance of recourse problem\n",
    "temp_recourse_problem = stoc_model.create_instance()\n",
    "\n",
    "temp_recourse_problem.scenario_probs.store_values(scenario_probabilities)\n",
    "\n",
    "res = opt.solve(temp_recourse_problem)\n",
    "\n",
    "temp_rp_obj_value = -temp_recourse_problem.objective()\n",
    "\n",
    "vss = compute_vss(scenario_probabilities, temp_rp_obj_value)\n",
    "evpi = compute_evpi(scenario_probabilities, temp_rp_obj_value)\n",
    "\n",
    "print(f\"Scenario Probabilities: {scenario_probabilities}\")\n",
    "print(f\"Value of the Stochastic Solution (VSS) = ${vss:.2f}\")\n",
    "print(f\"Expected Value of Perfect Information (EVPI) = ${evpi:.2f}\")"
   ]
  },
  {
   "cell_type": "markdown",
   "metadata": {
    "id": "4PDGkzXgjETQ"
   },
   "source": [
    "### Scenario Probabilities Sensitivity Analysis\n",
    "\n",
    "Now, let's conduct a more robust sensitivity analysis by varying the scenario probabilities. Run the cells below to skew the distribution by a sequence of skew factors $k$. Can you jusify the trends you see?\n"
   ]
  },
  {
   "cell_type": "code",
   "execution_count": 23,
   "metadata": {
    "id": "PWaWmbK5jETQ"
   },
   "outputs": [],
   "source": [
    "# helper function that skews probability distribution\n",
    "def skew_distribution(k):\n",
    "    x = np.array([1.0, 2.0, 3.0])\n",
    "    exponentials = np.exp(k * x)\n",
    "    return exponentials / np.sum(exponentials)\n",
    "\n",
    "# help function to compute entropy of distribution\n",
    "def compute_entropy(dist):\n",
    "    return - np.sum(np.multiply(dist,np.log(dist)))\n",
    "\n",
    "\n",
    "skews = np.linspace(-3,3,50)\n",
    "entropies = np.zeros_like(skews)\n",
    "results = {'VSS': np.zeros_like(skews), 'EVPI': np.zeros_like(skews)}\n",
    "for i, k in np.ndenumerate(skews):\n",
    "\n",
    "    # create model instance\n",
    "    temp_recourse_problem = stoc_model.create_instance()\n",
    "\n",
    "    # skew distribution\n",
    "    distribution = skew_distribution(k)\n",
    "\n",
    "    scenario_probabilities = dict(zip(stoc_model.scenarios,distribution))\n",
    "\n",
    "    temp_recourse_problem.scenario_probs.store_values(scenario_probabilities)\n",
    "\n",
    "    res = opt.solve(temp_recourse_problem)\n",
    "\n",
    "    temp_rp_obj_value = -temp_recourse_problem.objective()\n",
    "\n",
    "    results['VSS'][i] = compute_vss(scenario_probabilities, temp_rp_obj_value)\n",
    "    results['EVPI'][i] = compute_evpi(scenario_probabilities, temp_rp_obj_value)\n",
    "    entropies[i] = compute_entropy(distribution)\n",
    "\n"
   ]
  },
  {
   "cell_type": "code",
   "execution_count": 24,
   "metadata": {
    "id": "1rSVvVtCjETQ"
   },
   "outputs": [
    {
     "data": {
      "image/png": "[encoded data removed]",
      "text/plain": [
       "<Figure size 1200x500 with 2 Axes>"
      ]
     },
     "metadata": {},
     "output_type": "display_data"
    }
   ],
   "source": [
    "plt.figure(figsize=(12,5))\n",
    "plt.subplot(1,2,1)\n",
    "plt.plot(skews,results['VSS'],label='VSS')\n",
    "plt.xlabel('Distribution Skew')\n",
    "plt.ylabel('VSS ($)')\n",
    "plt.grid()\n",
    "plt.legend()\n",
    "plt.title(\"Value of Stochastic solution (VSS)\")\n",
    "\n",
    "plt.subplot(1,2,2)\n",
    "plt.plot(skews,results['EVPI'],label='EVPI')\n",
    "plt.xlabel('Distribution Skew')\n",
    "plt.ylabel('EVPI ($)')\n",
    "plt.grid()\n",
    "plt.legend()\n",
    "plt.title(\"Expected Value of Perfect Information (EVPI)\")\n",
    "plt.show()"
   ]
  }
 ],
 "metadata": {
  "colab": {
   "provenance": []
  },
  "kernelspec": {
   "display_name": "Python 3 (ipykernel)",
   "language": "python",
   "name": "python3"
  },
  "language_info": {
   "codemirror_mode": {
    "name": "ipython",
    "version": 3
   },
   "file_extension": ".py",
   "mimetype": "text/x-python",
   "name": "python",
   "nbconvert_exporter": "python",
   "pygments_lexer": "ipython3",
   "version": "3.9.18"
  }
 },
 "nbformat": 4,
 "nbformat_minor": 4
}
